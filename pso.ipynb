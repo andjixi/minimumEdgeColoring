{
 "cells": [
  {
   "cell_type": "code",
   "execution_count": 1,
   "id": "6bcf3b02-c80c-419f-9ec9-59353b176c1f",
   "metadata": {},
   "outputs": [],
   "source": [
    "import networkx as nx\n",
    "import matplotlib.pyplot as plt\n",
    "import time\n",
    "import os\n",
    "from itertools import product\n",
    "import re\n",
    "import random\n",
    "import numpy as np"
   ]
  },
  {
   "cell_type": "code",
   "execution_count": 2,
   "id": "43172036-1180-4bcc-9794-84564083f2ae",
   "metadata": {},
   "outputs": [],
   "source": [
    "def neighbor_edges_of_node(graph, node):\n",
    "    return [edge for edge in graph.edges() if node in edge]"
   ]
  },
  {
   "cell_type": "code",
   "execution_count": 3,
   "id": "54e7ce60-0636-4799-91a4-aa41363849f9",
   "metadata": {},
   "outputs": [],
   "source": [
    "def is_valid_coloring(graph, coloring):\n",
    "    edge_color = {edge: coloring[i] for i, edge in enumerate(graph.edges())}\n",
    "    \n",
    "    for edge in graph.edges():\n",
    "        u, v = edge\n",
    "        \n",
    "        u_edges = neighbor_edges_of_node(graph, u)\n",
    "        v_edges = neighbor_edges_of_node(graph, v)\n",
    "\n",
    "        u_edges.remove(edge)\n",
    "        v_edges.remove(edge)\n",
    "        \n",
    "        for i in range(len(u_edges)):\n",
    "            if edge_color[u_edges[i]] == edge_color[edge]:\n",
    "                return False\n",
    "        \n",
    "        for j in range(len(v_edges)):  \n",
    "            if edge_color[v_edges[j]] == edge_color[edge]:\n",
    "                return False\n",
    "    return True"
   ]
  },
  {
   "cell_type": "code",
   "execution_count": 4,
   "id": "4f03a20c-10a4-436b-985f-1f43a6153a95",
   "metadata": {},
   "outputs": [],
   "source": [
    "def read_graph_from_file(filename):\n",
    "    with open(filename, 'r') as file:\n",
    "        lines = file.readlines()\n",
    "        num_nodes, num_edges = map(int, lines[0].split()[2:])  # extractiong num_nodes and num_edges\n",
    "        edges = [tuple(map(int, line.split()[1:])) for line in lines[1:] if line.startswith('e')]\n",
    "        graph = nx.Graph()\n",
    "        graph.add_nodes_from(range(1, num_nodes + 1))\n",
    "        graph.add_edges_from(edges)\n",
    "        \n",
    "        return graph\n",
    "    "
   ]
  },
  {
   "cell_type": "code",
   "execution_count": 5,
   "id": "bc1145f1-2d1a-413b-b689-05cd1476c28f",
   "metadata": {},
   "outputs": [],
   "source": [
    "def draw_colored_graph(graph, coloring):    \n",
    "    nx.draw(graph, with_labels=True, edge_color=coloring)\n",
    "    plt.show()"
   ]
  },
  {
   "cell_type": "code",
   "execution_count": 6,
   "id": "80d77f8f-2868-4639-b47d-91a150576dfb",
   "metadata": {},
   "outputs": [],
   "source": [
    "def write_output(graph, test_name, coloring_result, iter, start_time, end_time):\n",
    "\n",
    "    print(coloring_result)\n",
    "    with open('./results/pso_results.txt', 'a') as result_file:\n",
    "        result_file.write(f\"Test Name: {test_name}\\n\")\n",
    "        result_file.write(\"Result: \")\n",
    "        \n",
    "        \n",
    "        if len(coloring_result) == 1 and coloring_result[0] == -100:\n",
    "            result_file.write(\"No solution found.\\n\")\n",
    "            print(\"No solution found.\\n\")\n",
    "        \n",
    "        else:\n",
    "            result_file.write(\"Minimum edge coloring found.\\n\")\n",
    "            result_file.write(f\"Number of colors: {len(set(coloring_result))}\\n\")\n",
    "            result_file.write(f\"Number of iterations: {iter}\\n\")\n",
    "\n",
    "            print(\"Minimum edge coloring found.\")\n",
    "            print(\"Number of colors:\", len(set(coloring_result)))  \n",
    "            print(\"Number of iterations:\", iter)\n",
    "            draw_colored_graph(graph, coloring_result)\n",
    "            plt.close() \n",
    "             \n",
    "\n",
    "        time_taken = end_time - start_time\n",
    "\n",
    "        result_file.write(f\"Time taken (seconds): {time_taken}\\n\")\n",
    "        print(\"Time taken:\", time_taken, \"seconds\\n\")    \n",
    "        result_file.write(\"\\n\")"
   ]
  },
  {
   "cell_type": "code",
   "execution_count": 7,
   "id": "5a7f36e7-d6b9-4bfc-b648-a27e7c00912e",
   "metadata": {},
   "outputs": [],
   "source": [
    "def numerical_sort(value):\n",
    "    parts = re.split(r'(\\d+)', value)\n",
    "    parts = [int(part) if part.isdigit() else part for part in parts]\n",
    "    return parts"
   ]
  },
  {
   "cell_type": "code",
   "execution_count": 37,
   "id": "2a9673f6-4ddf-4c05-be9f-0e019a50c6bb",
   "metadata": {},
   "outputs": [
    {
     "ename": "NameError",
     "evalue": "name 'num_colors' is not defined",
     "output_type": "error",
     "traceback": [
      "\u001b[0;31m---------------------------------------------------------------------------\u001b[0m",
      "\u001b[0;31mNameError\u001b[0m                                 Traceback (most recent call last)",
      "Cell \u001b[0;32mIn[37], line 1\u001b[0m\n\u001b[0;32m----> 1\u001b[0m \u001b[38;5;28;01mclass\u001b[39;00m \u001b[38;5;21;01mParticle\u001b[39;00m:\n\u001b[1;32m      2\u001b[0m     swarm_best_coloring \u001b[38;5;241m=\u001b[39m \u001b[38;5;28;01mNone\u001b[39;00m\n\u001b[1;32m      3\u001b[0m     swarm_best_value \u001b[38;5;241m=\u001b[39m \u001b[38;5;28;01mNone\u001b[39;00m\n",
      "Cell \u001b[0;32mIn[37], line 4\u001b[0m, in \u001b[0;36mParticle\u001b[0;34m()\u001b[0m\n\u001b[1;32m      2\u001b[0m swarm_best_coloring \u001b[38;5;241m=\u001b[39m \u001b[38;5;28;01mNone\u001b[39;00m\n\u001b[1;32m      3\u001b[0m swarm_best_value \u001b[38;5;241m=\u001b[39m \u001b[38;5;28;01mNone\u001b[39;00m\n\u001b[0;32m----> 4\u001b[0m swarm_least_colors \u001b[38;5;241m=\u001b[39m \u001b[43mnum_colors\u001b[49m\n\u001b[1;32m      6\u001b[0m \u001b[38;5;28;01mdef\u001b[39;00m \u001b[38;5;21m__init__\u001b[39m(\u001b[38;5;28mself\u001b[39m, graph, num_colors, c_i, c_p, c_s):\n\u001b[1;32m      7\u001b[0m     \u001b[38;5;28mself\u001b[39m\u001b[38;5;241m.\u001b[39mc_i \u001b[38;5;241m=\u001b[39m c_i\n",
      "\u001b[0;31mNameError\u001b[0m: name 'num_colors' is not defined"
     ]
    }
   ],
   "source": [
    "\n",
    "class Particle:\n",
    "    swarm_best_coloring = None\n",
    "    swarm_best_value = None\n",
    "    swarm_least_colors = num_colors\n",
    "    \n",
    "    def __init__(self, graph, num_colors, c_i, c_p, c_s):\n",
    "        self.c_i = c_i\n",
    "        self.c_p = c_p\n",
    "        self.c_s = c_s\n",
    "        \n",
    "        self.graph = graph\n",
    "        self.num_colors = num_colors\n",
    "        self.colors = np.random.randint(0, num_colors, len(graph.edges()))\n",
    "        self.velocity = np.random.uniform(-1, 1, len(graph.edges()))\n",
    "        \n",
    "        self.personal_best_coloring = self.colors.copy()\n",
    "        self.value = self.calculate_conflicts()\n",
    "        self.personal_best_value = self.value\n",
    "        self.personal_least_colors = self.num_colors\n",
    "        if Particle.swarm_best_value is None or self.value < Particle.swarm_best_value:\n",
    "            Particle.swarm_best_value = self.value\n",
    "            Particle.swarm_best_coloring = self.colors.copy()\n",
    "            \n",
    "    def calculate_conflicts(self):\n",
    "        edge_color = {edge: self.colors[i] for i, edge in enumerate(self.graph.edges())}\n",
    "        num = 0\n",
    "    \n",
    "        for edge in self.graph.edges():\n",
    "            indicator = True\n",
    "    \n",
    "            u, v = edge\n",
    "            \n",
    "            u_edges = neighbor_edges_of_node(self.graph, u)\n",
    "            v_edges = neighbor_edges_of_node(self.graph, v)\n",
    "    \n",
    "            u_edges.remove(edge)\n",
    "            v_edges.remove(edge)\n",
    "            \n",
    "            for i in range(len(u_edges)):\n",
    "                if edge_color[u_edges[i]] == edge_color[edge]:\n",
    "                    indicator = False\n",
    "            \n",
    "            for j in range(len(v_edges)):  \n",
    "                if edge_color[v_edges[j]] == edge_color[edge]:\n",
    "                    indicator = False\n",
    "    \n",
    "            if indicator:\n",
    "                num += 1\n",
    "        \n",
    "        return len(self.graph.edges()) - num\n",
    "    \n",
    "    def update_colors(self):\n",
    "        self.colors = np.clip(self.colors + self.velocity, 0, self.num_colors - 1).astype(int)\n",
    "        self.value = self.calculate_conflicts()\n",
    "        self.num_colors = len(np.unique(self.colors))\n",
    "        if self.value < self.personal_best_value and is_valid_coloring(self.graph, self.colors) and self.num_colors < self.personal_least_colors:\n",
    "            self.personal_best_value = self.value\n",
    "            self.personal_best_coloring = self.colors.copy()\n",
    "            self.personal_least_colors = self.num_colors\n",
    "            \n",
    "            if self.value < Particle.swarm_best_value and self.num_colors < Particle.swarm_least_colors:\n",
    "                Particle.swarm_best_value = self.value\n",
    "                Particle.swarm_best_coloring = self.colors.copy()\n",
    "                Particle.swarm_least_colors = self.num_colors\n",
    "                \n",
    "        else:\n",
    "            return -100\n",
    "    \n",
    "    def update_velocity(self, iteration):\n",
    "        cognitive_velocity = self.personal_best_coloring - self.colors\n",
    "        social_velocity = Particle.swarm_best_coloring - self.colors\n",
    "        r_p = np.random.random(len(cognitive_velocity))\n",
    "        r_s = np.random.random(len(social_velocity))\n",
    "        self.velocity = (self.c_i / iteration) * self.velocity + \\\n",
    "                        self.c_p * r_p * cognitive_velocity + \\\n",
    "                        self.c_s * r_s * social_velocity"
   ]
  },
  {
   "cell_type": "code",
   "execution_count": 38,
   "id": "2bf8de66-1db5-4f6a-928f-e889a11d6cb1",
   "metadata": {},
   "outputs": [],
   "source": [
    "def pso(graph, swarm_size, num_iters, c_i, c_p, c_s):\n",
    "    num_nodes = len(graph.nodes())\n",
    "    num_edges = len(graph.edges())\n",
    "    num_colors = num_nodes  # Inicijalno postavljamo broj boja na broj čvorova\n",
    "    swarm = [Particle(graph, num_colors, c_i, c_p, c_s) for _ in range(swarm_size)]\n",
    "    for i in range(num_iters):\n",
    "        for p in swarm:\n",
    "            p.update_velocity(i + 1)  # Povećavamo faktor c_i kako se iteracije povećavaju\n",
    "            p.update_colors()\n",
    "    return Particle.swarm_best_coloring, Particle.swarm_best_value, num_colors\n",
    "\n"
   ]
  },
  {
   "cell_type": "code",
   "execution_count": 39,
   "id": "4659ec1b-0cf6-4d7d-882e-4a532d9c1e47",
   "metadata": {},
   "outputs": [],
   "source": [
    "def run_tests(directory):\n",
    "    files = os.listdir(directory)\n",
    "    sorted_files = sorted(files, key=numerical_sort)\n",
    "\n",
    "    swarm_size = 10  \n",
    "    num_iters = 100  \n",
    "    c_i = 0.5  \n",
    "    c_p = 1 \n",
    "    c_s = 1  \n",
    "\n",
    "    for file in sorted_files:\n",
    "        if file.endswith('.txt'):\n",
    "            filepath = os.path.join(directory, file)\n",
    "            print(f\"Running test {file}...\")\n",
    "\n",
    "            start_time = time.time()\n",
    "            graph = read_graph_from_file(filepath)\n",
    "            best_individual, best_value, num_colors = pso(graph, swarm_size, num_iters, c_i, c_p, c_s)\n",
    "            end_time = time.time()\n",
    "\n",
    "            coloring_result = best_individual\n",
    "\n",
    "            write_output(graph, file, coloring_result, num_colors, start_time, end_time) \n",
    "            Particle.swarm_best_coloring = None\n",
    "            Particle.swarm_best_value = None"
   ]
  },
  {
   "cell_type": "code",
   "execution_count": 40,
   "id": "60a320a1-3e3d-4eb6-bdfc-51415e4f27fd",
   "metadata": {},
   "outputs": [
    {
     "name": "stdout",
     "output_type": "stream",
     "text": [
      "Running test graph_3_edges.txt...\n",
      "[2 1 0]\n",
      "Minimum edge coloring found.\n",
      "Number of colors: 3\n",
      "Number of iterations: 3\n"
     ]
    },
    {
     "data": {
      "image/png": "[encoded data removed]",
      "text/plain": [
       "<Figure size 640x480 with 1 Axes>"
      ]
     },
     "metadata": {},
     "output_type": "display_data"
    },
    {
     "name": "stdout",
     "output_type": "stream",
     "text": [
      "Time taken: 0.06642866134643555 seconds\n",
      "\n",
      "Running test graph_5_edges.txt...\n"
     ]
    },
    {
     "ename": "TypeError",
     "evalue": "'<' not supported between instances of 'int' and 'NoneType'",
     "output_type": "error",
     "traceback": [
      "\u001b[0;31m---------------------------------------------------------------------------\u001b[0m",
      "\u001b[0;31mTypeError\u001b[0m                                 Traceback (most recent call last)",
      "Cell \u001b[0;32mIn[40], line 4\u001b[0m\n\u001b[1;32m      1\u001b[0m \u001b[38;5;28;01mwith\u001b[39;00m \u001b[38;5;28mopen\u001b[39m(\u001b[38;5;124m'\u001b[39m\u001b[38;5;124m./results/pso_results.txt\u001b[39m\u001b[38;5;124m'\u001b[39m, \u001b[38;5;124m'\u001b[39m\u001b[38;5;124mw\u001b[39m\u001b[38;5;124m'\u001b[39m) \u001b[38;5;28;01mas\u001b[39;00m result_file:\n\u001b[1;32m      2\u001b[0m     result_file\u001b[38;5;241m.\u001b[39mwrite(\u001b[38;5;124m\"\u001b[39m\u001b[38;5;124m\"\u001b[39m)\n\u001b[0;32m----> 4\u001b[0m \u001b[43mrun_tests\u001b[49m\u001b[43m(\u001b[49m\u001b[38;5;124;43m'\u001b[39;49m\u001b[38;5;124;43m./tests\u001b[39;49m\u001b[38;5;124;43m'\u001b[39;49m\u001b[43m)\u001b[49m\n",
      "Cell \u001b[0;32mIn[39], line 18\u001b[0m, in \u001b[0;36mrun_tests\u001b[0;34m(directory)\u001b[0m\n\u001b[1;32m     16\u001b[0m start_time \u001b[38;5;241m=\u001b[39m time\u001b[38;5;241m.\u001b[39mtime()\n\u001b[1;32m     17\u001b[0m graph \u001b[38;5;241m=\u001b[39m read_graph_from_file(filepath)\n\u001b[0;32m---> 18\u001b[0m best_individual, best_value, num_colors \u001b[38;5;241m=\u001b[39m \u001b[43mpso\u001b[49m\u001b[43m(\u001b[49m\u001b[43mgraph\u001b[49m\u001b[43m,\u001b[49m\u001b[43m \u001b[49m\u001b[43mswarm_size\u001b[49m\u001b[43m,\u001b[49m\u001b[43m \u001b[49m\u001b[43mnum_iters\u001b[49m\u001b[43m,\u001b[49m\u001b[43m \u001b[49m\u001b[43mc_i\u001b[49m\u001b[43m,\u001b[49m\u001b[43m \u001b[49m\u001b[43mc_p\u001b[49m\u001b[43m,\u001b[49m\u001b[43m \u001b[49m\u001b[43mc_s\u001b[49m\u001b[43m)\u001b[49m\n\u001b[1;32m     19\u001b[0m end_time \u001b[38;5;241m=\u001b[39m time\u001b[38;5;241m.\u001b[39mtime()\n\u001b[1;32m     21\u001b[0m coloring_result \u001b[38;5;241m=\u001b[39m best_individual\n",
      "Cell \u001b[0;32mIn[38], line 9\u001b[0m, in \u001b[0;36mpso\u001b[0;34m(graph, swarm_size, num_iters, c_i, c_p, c_s)\u001b[0m\n\u001b[1;32m      7\u001b[0m     \u001b[38;5;28;01mfor\u001b[39;00m p \u001b[38;5;129;01min\u001b[39;00m swarm:\n\u001b[1;32m      8\u001b[0m         p\u001b[38;5;241m.\u001b[39mupdate_velocity(i \u001b[38;5;241m+\u001b[39m \u001b[38;5;241m1\u001b[39m)  \u001b[38;5;66;03m# Povećavamo faktor c_i kako se iteracije povećavaju\u001b[39;00m\n\u001b[0;32m----> 9\u001b[0m         \u001b[43mp\u001b[49m\u001b[38;5;241;43m.\u001b[39;49m\u001b[43mupdate_colors\u001b[49m\u001b[43m(\u001b[49m\u001b[43m)\u001b[49m\n\u001b[1;32m     10\u001b[0m \u001b[38;5;28;01mreturn\u001b[39;00m Particle\u001b[38;5;241m.\u001b[39mswarm_best_coloring, Particle\u001b[38;5;241m.\u001b[39mswarm_best_value, num_colors\n",
      "Cell \u001b[0;32mIn[33], line 61\u001b[0m, in \u001b[0;36mParticle.update_colors\u001b[0;34m(self)\u001b[0m\n\u001b[1;32m     58\u001b[0m \u001b[38;5;28mself\u001b[39m\u001b[38;5;241m.\u001b[39mpersonal_best_coloring \u001b[38;5;241m=\u001b[39m \u001b[38;5;28mself\u001b[39m\u001b[38;5;241m.\u001b[39mcolors\u001b[38;5;241m.\u001b[39mcopy()\n\u001b[1;32m     59\u001b[0m \u001b[38;5;28mself\u001b[39m\u001b[38;5;241m.\u001b[39mpersonal_least_colors \u001b[38;5;241m=\u001b[39m \u001b[38;5;28mself\u001b[39m\u001b[38;5;241m.\u001b[39mnum_colors\n\u001b[0;32m---> 61\u001b[0m \u001b[38;5;28;01mif\u001b[39;00m \u001b[38;5;28mself\u001b[39m\u001b[38;5;241m.\u001b[39mvalue \u001b[38;5;241m<\u001b[39m Particle\u001b[38;5;241m.\u001b[39mswarm_best_value \u001b[38;5;129;01mand\u001b[39;00m \u001b[38;5;28;43mself\u001b[39;49m\u001b[38;5;241;43m.\u001b[39;49m\u001b[43mnum_colors\u001b[49m\u001b[43m \u001b[49m\u001b[38;5;241;43m<\u001b[39;49m\u001b[43m \u001b[49m\u001b[43mParticle\u001b[49m\u001b[38;5;241;43m.\u001b[39;49m\u001b[43mswarm_least_colors\u001b[49m:\n\u001b[1;32m     62\u001b[0m     Particle\u001b[38;5;241m.\u001b[39mswarm_best_value \u001b[38;5;241m=\u001b[39m \u001b[38;5;28mself\u001b[39m\u001b[38;5;241m.\u001b[39mvalue\n\u001b[1;32m     63\u001b[0m     Particle\u001b[38;5;241m.\u001b[39mswarm_best_coloring \u001b[38;5;241m=\u001b[39m \u001b[38;5;28mself\u001b[39m\u001b[38;5;241m.\u001b[39mcolors\u001b[38;5;241m.\u001b[39mcopy()\n",
      "\u001b[0;31mTypeError\u001b[0m: '<' not supported between instances of 'int' and 'NoneType'"
     ]
    }
   ],
   "source": [
    "with open('./results/pso_results.txt', 'w') as result_file:\n",
    "    result_file.write(\"\")\n",
    "\n",
    "run_tests('./tests')"
   ]
  },
  {
   "cell_type": "code",
   "execution_count": null,
   "id": "5beedc2b-993a-44cb-b33e-727abbf8c5fe",
   "metadata": {},
   "outputs": [],
   "source": []
  }
 ],
 "metadata": {
  "kernelspec": {
   "display_name": "Python 3 (ipykernel)",
   "language": "python",
   "name": "python3"
  },
  "language_info": {
   "codemirror_mode": {
    "name": "ipython",
    "version": 3
   },
   "file_extension": ".py",
   "mimetype": "text/x-python",
   "name": "python",
   "nbconvert_exporter": "python",
   "pygments_lexer": "ipython3",
   "version": "3.10.12"
  }
 },
 "nbformat": 4,
 "nbformat_minor": 5
}
