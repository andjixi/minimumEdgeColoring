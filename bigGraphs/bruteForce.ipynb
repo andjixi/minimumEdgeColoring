{
 "cells": [
  {
   "cell_type": "code",
   "execution_count": 11,
   "metadata": {},
   "outputs": [],
   "source": [
    "import networkx as nx\n",
    "import matplotlib.pyplot as plt\n",
    "import time\n",
    "import os\n",
    "from itertools import product\n",
    "import re"
   ]
  },
  {
   "cell_type": "code",
   "execution_count": 12,
   "metadata": {},
   "outputs": [],
   "source": [
    "def neighbor_edges_of_node(graph, node):\n",
    "    neighbor_edges = []\n",
    "    for edge in graph.edges():\n",
    "        if node in edge:\n",
    "            neighbor_edges.append(edge)\n",
    "    return neighbor_edges"
   ]
  },
  {
   "cell_type": "code",
   "execution_count": 13,
   "metadata": {},
   "outputs": [],
   "source": [
    "def is_valid_coloring(graph, coloring):\n",
    "    edge_color = {edge: coloring[i] for i, edge in enumerate(graph.edges())}\n",
    "    \n",
    "    for edge in graph.edges():\n",
    "        u, v = edge\n",
    "        \n",
    "        u_edges = neighbor_edges_of_node(graph, u)\n",
    "        v_edges = neighbor_edges_of_node(graph, v)\n",
    "\n",
    "        u_edges.remove(edge)\n",
    "        v_edges.remove(edge)\n",
    "        \n",
    "        for i in range(len(u_edges)):\n",
    "            if edge_color[u_edges[i]] == edge_color[edge]:\n",
    "                return False\n",
    "        \n",
    "        for j in range(len(v_edges)):  \n",
    "            if edge_color[v_edges[j]] == edge_color[edge]:\n",
    "                return False\n",
    "    return True"
   ]
  },
  {
   "cell_type": "code",
   "execution_count": 14,
   "metadata": {},
   "outputs": [],
   "source": [
    "def draw_colored_graph(graph, coloring):    \n",
    "    nx.draw(graph, with_labels=True, edge_color=coloring)\n",
    "    plt.show()"
   ]
  },
  {
   "cell_type": "code",
   "execution_count": 15,
   "metadata": {},
   "outputs": [],
   "source": [
    "def brute_force_edge_coloring(graph, start_time):\n",
    "    n = len(graph.edges())\n",
    "    iters = 0\n",
    "\n",
    "    for coloring in product(range(1, n + 1), repeat=n):\n",
    "        iters += 1\n",
    "        if time.time() - start_time >= 5:\n",
    "            return -1, -1\n",
    "        if is_valid_coloring(graph, coloring):\n",
    "            return coloring, iters\n",
    "            \n",
    "    return None"
   ]
  },
  {
   "cell_type": "code",
   "execution_count": 16,
   "metadata": {},
   "outputs": [],
   "source": [
    "def read_graph_from_file(filename):\n",
    "    with open(filename, 'r') as file:\n",
    "        lines = file.readlines()\n",
    "        num_nodes, num_edges = map(int, lines[0].split()[2:])  # extracting num_nodes and num_edges\n",
    "        edges = [tuple(map(int, line.split()[1:])) for line in lines[1:] if line.startswith('e')]\n",
    "        graph = nx.Graph()\n",
    "        graph.add_nodes_from(range(1, num_nodes + 1))\n",
    "        graph.add_edges_from(edges)\n",
    "        \n",
    "        return graph"
   ]
  },
  {
   "cell_type": "code",
   "execution_count": 17,
   "metadata": {},
   "outputs": [],
   "source": [
    "def numerical_sort(value):\n",
    "    parts = re.split(r'(\\d+)', value)\n",
    "    parts[1] = int(parts[1]) if len(parts) > 1 else 0\n",
    "    return parts"
   ]
  },
  {
   "cell_type": "code",
   "execution_count": 18,
   "metadata": {},
   "outputs": [],
   "source": [
    "def write_output(graph, test_name, coloring_result, iter, start_time, end_time):\n",
    "    with open('./results/bruteForce_results.txt', 'a') as result_file:\n",
    "        result_file.write(f\"Test Name: {test_name}\\n\")\n",
    "        result_file.write(\"Result: \")\n",
    "        \n",
    "        if coloring_result == -1:\n",
    "            result_file.write(\"Time limit exceeded.\\n\")\n",
    "            print(\"Time limit exceeded.\\n\")\n",
    "        else:\n",
    "            if coloring_result:\n",
    "                result_file.write(\"Minimum edge coloring found.\\n\")\n",
    "                result_file.write(f\"Number of colors: {max(coloring_result)}\\n\")\n",
    "                result_file.write(f\"Number of iterations: {iter}\\n\")\n",
    "\n",
    "                print(\"Minimum edge coloring found.\")\n",
    "                print(\"Number of colors:\", max(coloring_result))  \n",
    "                print(\"Number of iterations:\", iter)\n",
    "                draw_colored_graph(graph, coloring_result)\n",
    "                plt.close() \n",
    "            else:\n",
    "                result_file.write(\"No solution found.\\n\")\n",
    "                print(\"No solution found.\\n\") \n",
    "        \n",
    "        time_taken = end_time - start_time\n",
    "\n",
    "        result_file.write(f\"Time taken (seconds): {time_taken}\\n\")        \n",
    "        result_file.write(\"\\n\")\n",
    "        print(\"Time taken:\", end_time - start_time, \"seconds\\n\")\n"
   ]
  },
  {
   "cell_type": "code",
   "execution_count": 19,
   "metadata": {},
   "outputs": [],
   "source": [
    "def run_tests(directory):\n",
    "    files = os.listdir(directory)\n",
    "    sorted_files = sorted(files, key=numerical_sort)\n",
    "\n",
    "    for file in sorted_files:\n",
    "        if file.endswith('.txt'):\n",
    "            filepath = os.path.join(directory, file)\n",
    "            print(f\"Running test {file}...\")\n",
    "\n",
    "            start_time = time.time()\n",
    "            graph = read_graph_from_file(filepath)\n",
    "            coloring_result, iter = brute_force_edge_coloring(graph, start_time)\n",
    "            end_time = time.time()\n",
    "\n",
    "            write_output(graph, file, coloring_result, iter, start_time, end_time)     \n",
    "                        "
   ]
  },
  {
   "cell_type": "code",
   "execution_count": 21,
   "metadata": {},
   "outputs": [
    {
     "name": "stdout",
     "output_type": "stream",
     "text": [
      "Running test graph_101_edges.txt...\n",
      "Time limit exceeded.\n",
      "\n",
      "Time taken: 5.001976490020752 seconds\n",
      "\n",
      "Running test graph_121_edges.txt...\n",
      "Time limit exceeded.\n",
      "\n",
      "Time taken: 5.006035089492798 seconds\n",
      "\n",
      "Running test graph_140_edges.txt...\n",
      "Time limit exceeded.\n",
      "\n",
      "Time taken: 5.010162353515625 seconds\n",
      "\n",
      "Running test graph_156_edges.txt...\n",
      "Time limit exceeded.\n",
      "\n",
      "Time taken: 5.009943723678589 seconds\n",
      "\n",
      "Running test graph_165_edges.txt...\n",
      "Time limit exceeded.\n",
      "\n",
      "Time taken: 5.000903367996216 seconds\n",
      "\n",
      "Running test graph_177_edges.txt...\n",
      "Time limit exceeded.\n",
      "\n",
      "Time taken: 5.000736951828003 seconds\n",
      "\n",
      "Running test graph_204_edges.txt...\n",
      "Time limit exceeded.\n",
      "\n",
      "Time taken: 5.000509977340698 seconds\n",
      "\n",
      "Running test graph_227_edges.txt...\n",
      "Time limit exceeded.\n",
      "\n",
      "Time taken: 5.000316143035889 seconds\n",
      "\n",
      "Running test graph_273_edges.txt...\n",
      "Time limit exceeded.\n",
      "\n",
      "Time taken: 5.000258684158325 seconds\n",
      "\n",
      "Running test graph_275_edges.txt...\n",
      "Time limit exceeded.\n",
      "\n",
      "Time taken: 5.000690698623657 seconds\n",
      "\n"
     ]
    }
   ],
   "source": [
    "with open('./results/bruteForce_results.txt', 'w') as result_file:\n",
    "    result_file.write(\"\")\n",
    "\n",
    "run_tests('./tests')"
   ]
  }
 ],
 "metadata": {
  "kernelspec": {
   "display_name": "Python 3",
   "language": "python",
   "name": "python3"
  },
  "language_info": {
   "codemirror_mode": {
    "name": "ipython",
    "version": 3
   },
   "file_extension": ".py",
   "mimetype": "text/x-python",
   "name": "python",
   "nbconvert_exporter": "python",
   "pygments_lexer": "ipython3",
   "version": "3.10.11"
  }
 },
 "nbformat": 4,
 "nbformat_minor": 2
}
