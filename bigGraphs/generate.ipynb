{
 "cells": [
  {
   "cell_type": "code",
   "execution_count": 58,
   "metadata": {},
   "outputs": [],
   "source": [
    "import networkx as nx"
   ]
  },
  {
   "cell_type": "code",
   "execution_count": 59,
   "metadata": {},
   "outputs": [
    {
     "name": "stdout",
     "output_type": "stream",
     "text": [
      "Graph with 30 nodes and 171 edges\n"
     ]
    }
   ],
   "source": [
    "num_nodes = 30\n",
    "prob = 0.4\n",
    "graph: nx.Graph = nx.fast_gnp_random_graph(num_nodes, prob)\n",
    "print(graph)"
   ]
  },
  {
   "cell_type": "code",
   "execution_count": 60,
   "metadata": {},
   "outputs": [],
   "source": [
    "f = open(f'tests/graph_{graph.number_of_edges()}_edges.txt', \"w\")\n",
    "f.write(f'p edge {num_nodes} {num_nodes}\\n')\n",
    "for edge in graph.edges:\n",
    "    f.write(f'e {edge[0]+1} {edge[1]+1}\\n')\n",
    "f.close()"
   ]
  }
 ],
 "metadata": {
  "kernelspec": {
   "display_name": "Python 3",
   "language": "python",
   "name": "python3"
  },
  "language_info": {
   "codemirror_mode": {
    "name": "ipython",
    "version": 3
   },
   "file_extension": ".py",
   "mimetype": "text/x-python",
   "name": "python",
   "nbconvert_exporter": "python",
   "pygments_lexer": "ipython3",
   "version": "3.10.11"
  }
 },
 "nbformat": 4,
 "nbformat_minor": 2
}
